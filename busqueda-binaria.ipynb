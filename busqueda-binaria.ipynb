{
 "cells": [
  {
   "cell_type": "code",
   "execution_count": 10,
   "metadata": {},
   "outputs": [
    {
     "ename": "IndexError",
     "evalue": "list index out of range",
     "output_type": "error",
     "traceback": [
      "\u001b[0;31m---------------------------------------------------------------------------\u001b[0m",
      "\u001b[0;31mIndexError\u001b[0m                                Traceback (most recent call last)",
      "Cell \u001b[0;32mIn[10], line 35\u001b[0m\n\u001b[1;32m     33\u001b[0m     \u001b[39m# Assert\u001b[39;00m\n\u001b[1;32m     34\u001b[0m     \u001b[39mreturn\u001b[39;00m resultado \u001b[39m==\u001b[39m \u001b[39mTrue\u001b[39;00m\n\u001b[0;32m---> 35\u001b[0m test()\n",
      "Cell \u001b[0;32mIn[10], line 32\u001b[0m, in \u001b[0;36mtest\u001b[0;34m()\u001b[0m\n\u001b[1;32m     30\u001b[0m objetivo \u001b[39m=\u001b[39m \u001b[39m54\u001b[39m\n\u001b[1;32m     31\u001b[0m \u001b[39m# Act\u001b[39;00m\n\u001b[0;32m---> 32\u001b[0m resultado \u001b[39m=\u001b[39m busqueda_binaria(lista, objetivo)\n\u001b[1;32m     33\u001b[0m \u001b[39m# Assert\u001b[39;00m\n\u001b[1;32m     34\u001b[0m \u001b[39mreturn\u001b[39;00m resultado \u001b[39m==\u001b[39m \u001b[39mTrue\u001b[39;00m\n",
      "Cell \u001b[0;32mIn[10], line 17\u001b[0m, in \u001b[0;36mbusqueda_binaria\u001b[0;34m(lista, objetivo)\u001b[0m\n\u001b[1;32m     15\u001b[0m \u001b[39mwhile\u001b[39;00m interruptor \u001b[39m==\u001b[39m \u001b[39mTrue\u001b[39;00m:\n\u001b[1;32m     16\u001b[0m     biseccion \u001b[39m=\u001b[39m \u001b[39mlen\u001b[39m(lista_ordenada) \u001b[39m/\u001b[39m\u001b[39m/\u001b[39m \u001b[39m2\u001b[39m\n\u001b[0;32m---> 17\u001b[0m     \u001b[39mif\u001b[39;00m objetivo \u001b[39m==\u001b[39m lista_ordenada[biseccion]: \n\u001b[1;32m     18\u001b[0m         interruptor \u001b[39m=\u001b[39m \u001b[39mFalse\u001b[39;00m\n\u001b[1;32m     19\u001b[0m         resultado \u001b[39m=\u001b[39m \u001b[39mTrue\u001b[39;00m\n",
      "\u001b[0;31mIndexError\u001b[0m: list index out of range"
     ]
    }
   ],
   "source": [
    "lista = [1,34, 11, 28, 50, 100, 29, 7, 71, 55, 33]\n",
    "def busqueda_binaria(lista, objetivo):\n",
    "    \"\"\"\n",
    "    Busca un número dentro de una lista y devuelve booleano con resultado\n",
    "    Args:\n",
    "        lista (list): Lista de números sobre la que se realizará la búsqueda\n",
    "        objetivo (int): Número objetivo\n",
    "    Returns: \n",
    "        (bool): Si hay o no match\n",
    "    \"\"\"\n",
    "    lista_ordenada = sorted(lista)\n",
    "    interruptor = True\n",
    "    resultado = False\n",
    "    loops = 0\n",
    "    while interruptor == True:\n",
    "        biseccion = len(lista_ordenada) // 2\n",
    "        if objetivo == lista_ordenada[biseccion]: \n",
    "            interruptor = False\n",
    "            resultado = True\n",
    "        if objetivo > lista_ordenada[biseccion]:\n",
    "            lista_ordenada[:] = lista_ordenada[biseccion:-1]\n",
    "            loops += 1\n",
    "        else:\n",
    "            lista_ordenada[:] = lista_ordenada[0:biseccion]\n",
    "            loops += 1\n",
    "    print(loops)\n",
    "    return resultado\n",
    "def test():\n",
    "    # Arrange\n",
    "    objetivo = 54\n",
    "    # Act\n",
    "    resultado = busqueda_binaria(lista, objetivo)\n",
    "    # Assert\n",
    "    return resultado == True\n",
    "test()\n"
   ]
  }
 ],
 "metadata": {
  "kernelspec": {
   "display_name": "Python 3",
   "language": "python",
   "name": "python3"
  },
  "language_info": {
   "codemirror_mode": {
    "name": "ipython",
    "version": 3
   },
   "file_extension": ".py",
   "mimetype": "text/x-python",
   "name": "python",
   "nbconvert_exporter": "python",
   "pygments_lexer": "ipython3",
   "version": "3.11.4"
  },
  "orig_nbformat": 4
 },
 "nbformat": 4,
 "nbformat_minor": 2
}
